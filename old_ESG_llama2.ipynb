{
 "cells": [
  {
   "cell_type": "code",
   "execution_count": 2,
   "id": "f0798b7f",
   "metadata": {},
   "outputs": [],
   "source": [
    "import pandas as pd\n",
    "import os"
   ]
  },
  {
   "cell_type": "code",
   "execution_count": 5,
   "id": "73820e3d",
   "metadata": {},
   "outputs": [
    {
     "data": {
      "text/plain": [
       "array(['2020-Jan-15-BLK.N-138585015802-transcript.csv',\n",
       "       '2021-Oct-27-RES.N-137346181697-transcript.csv',\n",
       "       '2020-Nov-06-LTBR.OQ-141153886026-transcript.csv', ...,\n",
       "       '2016-Nov-01-FSS.N-140977099203-transcript.csv',\n",
       "       '2021-Apr-30-CDE.N-140581713535-transcript.csv',\n",
       "       '2021-Mar-13-WPM.TO-139849009457-transcript.csv'], dtype=object)"
      ]
     },
     "execution_count": 5,
     "metadata": {},
     "output_type": "execute_result"
    }
   ],
   "source": [
    "esg_only_df = pd.read_csv('ESG_only_ECT.csv')\n",
    "esg_list = esg_only_df.Source_File.unique()\n",
    "esg_list"
   ]
  },
  {
   "cell_type": "code",
   "execution_count": 4,
   "id": "4bb443a1",
   "metadata": {},
   "outputs": [
    {
     "data": {
      "text/html": [
       "<div>\n",
       "<style scoped>\n",
       "    .dataframe tbody tr th:only-of-type {\n",
       "        vertical-align: middle;\n",
       "    }\n",
       "\n",
       "    .dataframe tbody tr th {\n",
       "        vertical-align: top;\n",
       "    }\n",
       "\n",
       "    .dataframe thead th {\n",
       "        text-align: right;\n",
       "    }\n",
       "</style>\n",
       "<table border=\"1\" class=\"dataframe\">\n",
       "  <thead>\n",
       "    <tr style=\"text-align: right;\">\n",
       "      <th></th>\n",
       "      <th>Speaker</th>\n",
       "      <th>Position</th>\n",
       "      <th>Speech</th>\n",
       "      <th>Date</th>\n",
       "      <th>Source_File</th>\n",
       "    </tr>\n",
       "  </thead>\n",
       "  <tbody>\n",
       "    <tr>\n",
       "      <th>0</th>\n",
       "      <td>Gary Stephen Shedlin</td>\n",
       "      <td>BlackRock</td>\n",
       "      <td>Thanks, Chris. Good morning, and Happy New Yea...</td>\n",
       "      <td>JANUARY 15, 2020</td>\n",
       "      <td>2020-Jan-15-BLK.N-138585015802-transcript.csv</td>\n",
       "    </tr>\n",
       "    <tr>\n",
       "      <th>1</th>\n",
       "      <td>Laurence Douglas Fink</td>\n",
       "      <td>BlackRock</td>\n",
       "      <td>Thank you, Gary. Good morning, everyone, and H...</td>\n",
       "      <td>JANUARY 15, 2020</td>\n",
       "      <td>2020-Jan-15-BLK.N-138585015802-transcript.csv</td>\n",
       "    </tr>\n",
       "    <tr>\n",
       "      <th>2</th>\n",
       "      <td>Kenneth Brooks Worthington</td>\n",
       "      <td>JP Morgan Chase &amp; Co</td>\n",
       "      <td>To follow-up on that. So your annual letter, t...</td>\n",
       "      <td>JANUARY 15, 2020</td>\n",
       "      <td>2020-Jan-15-BLK.N-138585015802-transcript.csv</td>\n",
       "    </tr>\n",
       "    <tr>\n",
       "      <th>3</th>\n",
       "      <td>Robert Steven Kapito</td>\n",
       "      <td>BlackRock</td>\n",
       "      <td>So following up on Larry's last answer, we cer...</td>\n",
       "      <td>JANUARY 15, 2020</td>\n",
       "      <td>2020-Jan-15-BLK.N-138585015802-transcript.csv</td>\n",
       "    </tr>\n",
       "    <tr>\n",
       "      <th>4</th>\n",
       "      <td>Ben M. Palmer</td>\n",
       "      <td>RPC</td>\n",
       "      <td>Yes. I would say so, yes. Yes. There is some b...</td>\n",
       "      <td>OCTOBER 27, 2021</td>\n",
       "      <td>2021-Oct-27-RES.N-137346181697-transcript.csv</td>\n",
       "    </tr>\n",
       "  </tbody>\n",
       "</table>\n",
       "</div>"
      ],
      "text/plain": [
       "                      Speaker              Position  \\\n",
       "0        Gary Stephen Shedlin             BlackRock   \n",
       "1       Laurence Douglas Fink             BlackRock   \n",
       "2  Kenneth Brooks Worthington  JP Morgan Chase & Co   \n",
       "3        Robert Steven Kapito             BlackRock   \n",
       "4               Ben M. Palmer                   RPC   \n",
       "\n",
       "                                              Speech              Date  \\\n",
       "0  Thanks, Chris. Good morning, and Happy New Yea...  JANUARY 15, 2020   \n",
       "1  Thank you, Gary. Good morning, everyone, and H...  JANUARY 15, 2020   \n",
       "2  To follow-up on that. So your annual letter, t...  JANUARY 15, 2020   \n",
       "3  So following up on Larry's last answer, we cer...  JANUARY 15, 2020   \n",
       "4  Yes. I would say so, yes. Yes. There is some b...  OCTOBER 27, 2021   \n",
       "\n",
       "                                     Source_File  \n",
       "0  2020-Jan-15-BLK.N-138585015802-transcript.csv  \n",
       "1  2020-Jan-15-BLK.N-138585015802-transcript.csv  \n",
       "2  2020-Jan-15-BLK.N-138585015802-transcript.csv  \n",
       "3  2020-Jan-15-BLK.N-138585015802-transcript.csv  \n",
       "4  2021-Oct-27-RES.N-137346181697-transcript.csv  "
      ]
     },
     "execution_count": 4,
     "metadata": {},
     "output_type": "execute_result"
    }
   ],
   "source": [
    "esg_only_df.head()"
   ]
  },
  {
   "cell_type": "code",
   "execution_count": null,
   "id": "4df32743",
   "metadata": {},
   "outputs": [],
   "source": [
    "i=0\n",
    "for file in esg_list:\n",
    "    file_path = os.path.join(folder_path, file)\n",
    "    df = pd.read_csv(file_path, encoding='utf-8')\n",
    "\n",
    "    contains_word = df['Speech'].str.contains('ESG', case=False, na=False)\n",
    "\n",
    "    rows_with_word = df[contains_word]  # 해당 행 복사\n",
    "    rows_with_word['Source_File'] = file  # Source_File 컬럼에 파일 이름 추가\n",
    "    rows_with_word.drop(columns=['Date'], axis=1)\n",
    "    esg_only_df = pd.concat([esg_only_df, rows_with_word],ignore_index=True)\n",
    "    esg_only_df.drop_duplicates(inplace=True)\n",
    "    i+=1    \n",
    "    print(i / len(csv_files) * 100)"
   ]
  }
 ],
 "metadata": {
  "kernelspec": {
   "display_name": "gpuenv",
   "language": "python",
   "name": "gpuenv"
  },
  "language_info": {
   "codemirror_mode": {
    "name": "ipython",
    "version": 3
   },
   "file_extension": ".py",
   "mimetype": "text/x-python",
   "name": "python",
   "nbconvert_exporter": "python",
   "pygments_lexer": "ipython3",
   "version": "3.8.18"
  }
 },
 "nbformat": 4,
 "nbformat_minor": 5
}
