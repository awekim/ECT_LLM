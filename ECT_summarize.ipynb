{
 "cells": [
  {
   "cell_type": "code",
   "execution_count": 47,
   "metadata": {},
   "outputs": [
    {
     "name": "stdout",
     "output_type": "stream",
     "text": [
      "PyTorch version: 2.6.0+cu118\n",
      "CUDA version used by PyTorch: 11.8\n",
      "Is CUDA available: True\n"
     ]
    }
   ],
   "source": [
    "import pandas as pd\n",
    "import re\n",
    "import os\n",
    "import torch\n",
    "\n",
    "print(\"PyTorch version:\", torch.__version__)\n",
    "print(\"CUDA version used by PyTorch:\", torch.version.cuda)\n",
    "print(\"Is CUDA available:\", torch.cuda.is_available())"
   ]
  },
  {
   "cell_type": "code",
   "execution_count": 50,
   "metadata": {},
   "outputs": [],
   "source": [
    "import os\n",
    "\n",
    "os.environ[\"CUDA_VISIBLE_DEVICES\"] = \"0\""
   ]
  },
  {
   "cell_type": "code",
   "execution_count": 48,
   "metadata": {},
   "outputs": [
    {
     "data": {
      "text/plain": [
       "'I:/Data_for_practice/ECT2001_2021_df/'"
      ]
     },
     "execution_count": 48,
     "metadata": {},
     "output_type": "execute_result"
    }
   ],
   "source": [
    "dir_txt = \"I:/Data_for_practice/ECT2001_2021_df/\"\n",
    "dir_txt"
   ]
  },
  {
   "cell_type": "code",
   "execution_count": 59,
   "metadata": {},
   "outputs": [
    {
     "data": {
      "text/html": [
       "<div>\n",
       "<style scoped>\n",
       "    .dataframe tbody tr th:only-of-type {\n",
       "        vertical-align: middle;\n",
       "    }\n",
       "\n",
       "    .dataframe tbody tr th {\n",
       "        vertical-align: top;\n",
       "    }\n",
       "\n",
       "    .dataframe thead th {\n",
       "        text-align: right;\n",
       "    }\n",
       "</style>\n",
       "<table border=\"1\" class=\"dataframe\">\n",
       "  <thead>\n",
       "    <tr style=\"text-align: right;\">\n",
       "      <th></th>\n",
       "      <th>Speaker</th>\n",
       "      <th>Position</th>\n",
       "      <th>Speech</th>\n",
       "      <th>Date</th>\n",
       "    </tr>\n",
       "  </thead>\n",
       "  <tbody>\n",
       "    <tr>\n",
       "      <th>1</th>\n",
       "      <td>NORM WESLEY</td>\n",
       "      <td>-</td>\n",
       "      <td>Good morning.  Thanks for joining us to review...</td>\n",
       "      <td>2001-Apr-19</td>\n",
       "    </tr>\n",
       "    <tr>\n",
       "      <th>2</th>\n",
       "      <td>CRAIG P. OMTVEDT</td>\n",
       "      <td>-</td>\n",
       "      <td>Thanks Norm.  Once again, the breadth of our c...</td>\n",
       "      <td>2001-Apr-19</td>\n",
       "    </tr>\n",
       "    <tr>\n",
       "      <th>3</th>\n",
       "      <td>NORM WESLEY</td>\n",
       "      <td>-</td>\n",
       "      <td>Thanks Craig.  At Fortune Brands, our strategi...</td>\n",
       "      <td>2001-Apr-19</td>\n",
       "    </tr>\n",
       "    <tr>\n",
       "      <th>5</th>\n",
       "      <td>ALEXANDER PARIS</td>\n",
       "      <td>-</td>\n",
       "      <td>Good morning.</td>\n",
       "      <td>2001-Apr-19</td>\n",
       "    </tr>\n",
       "    <tr>\n",
       "      <th>7</th>\n",
       "      <td>ALEXANDER PARIS</td>\n",
       "      <td>-</td>\n",
       "      <td>Just two quickquestions.  One, your guidance, ...</td>\n",
       "      <td>2001-Apr-19</td>\n",
       "    </tr>\n",
       "    <tr>\n",
       "      <th>...</th>\n",
       "      <td>...</td>\n",
       "      <td>...</td>\n",
       "      <td>...</td>\n",
       "      <td>...</td>\n",
       "    </tr>\n",
       "    <tr>\n",
       "      <th>215</th>\n",
       "      <td>CRAIG P. OMTVEDT</td>\n",
       "      <td>-</td>\n",
       "      <td>It is across the board.</td>\n",
       "      <td>2001-Apr-19</td>\n",
       "    </tr>\n",
       "    <tr>\n",
       "      <th>216</th>\n",
       "      <td>NORM WESLEY</td>\n",
       "      <td>-</td>\n",
       "      <td>Art, we don't operate with big backlogs.  In t...</td>\n",
       "      <td>2001-Apr-19</td>\n",
       "    </tr>\n",
       "    <tr>\n",
       "      <th>218</th>\n",
       "      <td>NORM WESLEY</td>\n",
       "      <td>-</td>\n",
       "      <td>And so until we ended the fourth quarter, we e...</td>\n",
       "      <td>2001-Apr-19</td>\n",
       "    </tr>\n",
       "    <tr>\n",
       "      <th>220</th>\n",
       "      <td>CRAIG P. OMTVEDT</td>\n",
       "      <td>-</td>\n",
       "      <td>Some of this is layoffs in our plant operation...</td>\n",
       "      <td>2001-Apr-19</td>\n",
       "    </tr>\n",
       "    <tr>\n",
       "      <th>224</th>\n",
       "      <td>NORM WESLEY</td>\n",
       "      <td>-</td>\n",
       "      <td>Okay, thank you all very much, and we look for...</td>\n",
       "      <td>2001-Apr-19</td>\n",
       "    </tr>\n",
       "  </tbody>\n",
       "</table>\n",
       "<p>154 rows × 4 columns</p>\n",
       "</div>"
      ],
      "text/plain": [
       "              Speaker Position  \\\n",
       "1         NORM WESLEY        -   \n",
       "2    CRAIG P. OMTVEDT        -   \n",
       "3         NORM WESLEY        -   \n",
       "5     ALEXANDER PARIS        -   \n",
       "7     ALEXANDER PARIS        -   \n",
       "..                ...      ...   \n",
       "215  CRAIG P. OMTVEDT        -   \n",
       "216       NORM WESLEY        -   \n",
       "218       NORM WESLEY        -   \n",
       "220  CRAIG P. OMTVEDT        -   \n",
       "224       NORM WESLEY        -   \n",
       "\n",
       "                                                Speech         Date  \n",
       "1    Good morning.  Thanks for joining us to review...  2001-Apr-19  \n",
       "2    Thanks Norm.  Once again, the breadth of our c...  2001-Apr-19  \n",
       "3    Thanks Craig.  At Fortune Brands, our strategi...  2001-Apr-19  \n",
       "5                                        Good morning.  2001-Apr-19  \n",
       "7    Just two quickquestions.  One, your guidance, ...  2001-Apr-19  \n",
       "..                                                 ...          ...  \n",
       "215                            It is across the board.  2001-Apr-19  \n",
       "216  Art, we don't operate with big backlogs.  In t...  2001-Apr-19  \n",
       "218  And so until we ended the fourth quarter, we e...  2001-Apr-19  \n",
       "220  Some of this is layoffs in our plant operation...  2001-Apr-19  \n",
       "224  Okay, thank you all very much, and we look for...  2001-Apr-19  \n",
       "\n",
       "[154 rows x 4 columns]"
      ]
     },
     "execution_count": 59,
     "metadata": {},
     "output_type": "execute_result"
    }
   ],
   "source": [
    "data = pd.read_csv(dir_txt + \"2001/2001-Apr-19-BEAM.N^E14-137149072506-transcript.csv\")\n",
    "data = data.loc[data['Speaker'] != 'Operator']\n",
    "data = data.loc[~data['Speaker'].str.match(r\"\\[\\d+\\]\")]\n",
    "data"
   ]
  },
  {
   "cell_type": "code",
   "execution_count": 61,
   "metadata": {},
   "outputs": [
    {
     "data": {
      "text/plain": [
       "[\"Thanks Norm.  Once again, the breadth of our consumer products portfolio proved to be a powerful advantage.  As we anticipated, 3 of our business segments were adversely impacted by the retail environment and softening orders.  At the same time, our spirits and wine business continued its momentum and delivered another quarter of record OCC.  As you can see from our results, company-wide OCC trailed sales.  That's due in large part to reduced operating leverage, as well as the adverse impact of foreign exchange.  Looking closer at the businesses and starting with the standout segment for the quarter spirits and wine, on a reported basis, spirits and wines sales increased 2% and operating companycontributions surged 9%.  As we have seen in previous quarters, underlying results were even stronger.  Excluding excise tax and the impact of adverse foreign exchange, sales were up 6% on a comparable basis.  And comparable contribution for the quarter increased 14%.  I would note that adverse foreign exchange clipped results about $3 million in the first quarter.  Depletions, sales from distributors to retailers, were strong across all our major spirit brands in the US. Our flagship, Jim Beam Bourbon, posted solid depletion gain, and continues to benefit from price increases we have taken in the past 2 years.  Benefiting from the growing popularity of apple martinis, or known more as appletinis, depletion growth for our DeKuyper cordials was solid.  Favorable mix shift continues to drive revenue and margin growth for us in spirits and wine, as our strategic focus on developing fast growing, high margin, super-premium spirits delivered sustained results.  Depletions of Knob Creek, the world's number one ultra-premium bourbon, were up strong double digits, and depletions of our Vox ultra-premium vodka were double that of a year ago, as the brand is on track to become a major player in the ultra-premium vodka category.  On the international front, our Maxxium joint venture is building momentum, providing the sustained benefits of lower distribution costs and improved market penetration.  In the first quarter, our international volumes were up substantially.  We are off to an excellent start for the year in Australia, where Jim Beam & Cola posted strong double-digit volume increases in the fast growing Pre-Mixed Cocktail category.  And we've added a citrus flavor to our highly successful AfterShock liqueur line, which continues to drive our success in the UK.  As Norm indicated, the second quarter will be a very exciting one for our spirits and wine business.  We have been busy laying the groundwork for the transition to the new joint venture.  We expect the usual antitrust approval and subsequent closing to come in the second quarter, and that the joint venture will be up, running, and distributing a combined dream team portfolio of spirits and wine brands in June.  Again, that powerhouse portfolio will feature the number one imported vodka in America, Absolut, the world's number one bourbon Jim Beam, the number one small batch bourbon Knob Creek, and the number one line of cordials in America DeKuyper.  Looking to the remainder of the year, our spirits and wine outlook is strong.  Let me underscore the reasons for our confidence. Spirits and wine brands with strong images and brand equity continue to perform in adverse economic conditions.  We continue to have strength across various price points.  Upon closing, our joint distribution venture with Absolut will increase our market clout and substantially reduce our distribution costs, beginning this year, and Maxxium continues to strengthen our international distribution.  For 2001, we are targeting to achieve mid to high single-digit growth in contribution.  That includes the benefits of our Absolut distribution partnership, as well as the adverse impact of foreign exchange at current rate.  Moving on to home and hardware.  While sales of 471 million trailed last year's record performance by 4%, OCC of 61 million was off 18%.  The profit under performance primarily reflects reduced operating leverage, higher energy costs, and the time we have spent on new product development.  Sales ofMoen faucets and our kitchen and bath cabinet brands increased in the home center channel.  We are continuing to strengthen the position of our cabinet brands at major home center accounts. Over the course of the quarter, the number of Home Depot stores featuring our cabinets continued to increase, and same-store sales of our cabinets at Home Depot grew double digits. We are also improving our position at Lowes, which is beginning to shift some of its orders to fast selling cabinet models.  The wholesale and builder channels for cabinets and faucets were a different story, as adverse weather delayed many home construction projects, particularly in the Northeast and Midwest.  A large part of the sales in OCC shortfall in home and hardware came from lower volume in Waterloo tools storage products due to the economic slowdown and the excess inventories at Sears following lower than expected holiday sales.  Master Lock posted strong sales on the success of innovative products, including new automotive security locks.  Master Lock has had excellent success penetrating the automotive market and securing additional shelf space at key customers.  Our commitment to customer service continues to generate accolades from major accounts.  Moen was named supplier of the year by Pulte Homes, the nation's largest homebuilder.  Master Lock recently achieved vendor of the year honor's at both Ace Hardware and Pro Hardware, and our Waterloo tool storage business last week was named quality source of the year for the entire Sears hard-lines group, outpacing every other Sears supplier in hardware, automotive, appliances, and electronics.  And as we look to the challenges ahead, several advantages will serve our home and hardware business well.  One,our powerful brands' breadth in the category and relentless innovation, and there's more in the pipeline, strength across distribution channels, strength in the less economically sensitive repair and remodel market, and our low cost structure, which sharpens our competitive edge. As we indicated last quarter, we expect the first half to be a challenge in home and hardware.  At the present time, assuming some level of economic recovery in the second half, our home and hardware target for the year is now low-to-mid single-digit OCC growth.  In golf, we had 2 headlines in the quarter.  First, on top of the U.S. economic slowdown adverse weather reduced rounds of play significantly in the quarter. Golfers played 8% fewer rounds in January and February, and based on the weather we've seen across the country here in March, we don't expect the March data to be any better.  Our strength is in the high margin on-course channel where sales of golf balls are naturally sensitive to the amount of golf people play.  That helps explain quarterly sales and contribution for our golf business that were 4% and 12% lower respectively. Headline number two is the revolutionary new Titleist Pro V1 golf ball which fast became the most powerful piece of our artillery on the competitive golf ball front.  You may have seen media accounts of Phil Mickelson saying the Pro V1 is the best ball that has ever been created, and the Pro V1 has had the greatest impact on the game of golf, more than any other piece of equipment in the history of the game, more so than Steel Shaft, and 10 of 16 champions on the PGA Tour this year have relied on the Pro V1 for their victories, more than 3 times the nearest competitor.  Needless to say, we are investing toincrease manufacturing capacity for the Pro V1, and we are ramping up production as fast as we can.  Let me underscore the early market success of the Pro V1.  Even in a constraint supply position over the past 3 months, the premium price Pro V1 has achieved market share of 5% in units.  That's more than Callaway's entire golf ball business, and it's comparable to Nike's entire share.  In key on-course channels, the Pro V1 has attained unit share of more than 10%, by far the #1 selling golf ball on course in just it's third month of availability.  At the same time, we're targeting substantial advertising spend in golf to defend our market leading golf ball share.  To date, it appears a lot of smaller competitors are bearing the brunt of the aggressive competition from Nike and Callaway. Despite continued strong share gains in wedges and putters, the current economic environment is contributing to softer overall club sales. Having said that, we're excited about the terrific new clubs we'll be introducing later in the year.  FootJoy, the #1 shoe in golf, sustained the strong momentum it built in 2000 and further extended it's market share leadership.  New products like e-Comfort and fit-dog helped fuel first quarter growth for FootJoy.  And in gloves, the new Dry ICE glove is off to a fast start.  In fact, it already leads the category in retail sellthrough.  Looking ahead, given current weakness in rounds of play, the economy's impact on discretionary club purchases, and our strategic spend to defend golf ball share, we are targeting OCC for golf to be down high single digits for the year.  Long term, we expect several advantages to continue to serve us well in golf including the broadest strengthin the industry, the #1 position in balls, shoes, and gloves, and a strong patent position that fuels our industry-leading innovation.  Turning to office products.  Results for the quarter were once again disappointing, as weaker incoming order rates in North America more than offset solid international sales in local currencies. Sales declined 9% but were down 6% in constant currency.  Reported operating company contribution came in at $7.3 million versus last year's 15.5 million.  On an underlying basis, results were somewhat better than they appear. Foreign exchange translation and transaction, along with the bankruptcy of U.S. office products group, reduced OCC by approximately $4 million in the quarter.  Accounting for those 2 factors, office products OCC trailed last year's figures by about 4 million.  This net shortfall can be attributed to North America, where progress on price increases, cost savings from restructuring, and the elimination of transition costs, were more than offset by weak incoming orders attributable to both inventory reductions by select customers and softer comp-store sales at key retailers.  Over the remainder of the year, results will benefit from several factors; the action plan announced today, restructuring savings associated with the January headcount reduction in North America, last year's one-off cost that won't be repeated, and the continued gains from price increases.  On the downside, we expect adverse foreign exchange at current rates in the range of about $5 million.  All told, we do expect improvement over the balance of the year.  We're taking a conservative approach targeting that reported office productscontribution will be up high single digits year-over-year, and that again is assuming some level of economic recovery in the second half. Let me underscore one point Norm made earlier. We do not expect that the office products action announced today to result in any full year charges for Fortune Brands.  We anticipate that all restructuring charges will be offset over the coming year by other gains, primarily from asset dispositions, though the timing of the offsets may vary from quarter to quarter.  I would tell you we are absolutely focused on improving the cash contribution from this business.  Now with regard to outlook, as Norm indicated earlier, we feel that our fundamental strengths coupled with the actions we have taken, position us well to navigate the challenges ahead.  And as we have said before, we expect to see improved results over the course of the year, assuming some firming of the economy, and we're targeting record results for the full year.  Results will benefit from our partnership with Vin & Sprit, lower borrowing costs, and targeted cuts in discretionary spending.  For the second quarter, the range of analyst estimates put us between ¢67 and ¢72 versus ¢65 a year ago.  I would say to you that that range appears to be aggressive, but we do expect second quarter comparisons will be better than the first quarter.  Looking out to the full year, the range of estimates has us between 245 and 254.  I would highlight that while some analysts have included the anticipated ¢6-¢8 benefit from the absolute partnership, some have not.  We continue to target to be in that full year range assuming some firming in the economy, and our view includes the benefits of this strategic partnership.  We are clearlytaking a conservative approach.  Should the economy bounce back, the benefits from the Absolut partnership could become incremental. And finally, as an aside, one final note.  Our targets are based on the current GAAP accounting for intangibles.  If the new GAAP proposal were to be implemented as written, our EPS would benefit annually by about ¢37 or about 16%.  Now let me turn things back to Norm.\",\n",
       " \"Thanks Craig.  At Fortune Brands, our strategic focus on maximizing value for our shareholders underpins our confidence in the future.  We're moving aggressively, making tough calls, and seizing opportunities to best position Fortune Brands to deliver results. We're focused on growth by building powerful brands and developing market leading new products.  We're continuously reducing our cost structure to further fuel that brand growth. We're boosting competitiveness and returns with major operational improvements, and we're supplementing operational performance with additional shareholder value initiatives.  We have an exciting quarter ahead as we prepare for the launch of our new spirit and wine distribution partnership with Absolut, and we look forward to sharing with you and prove results over the course of the year and a record 2001.  Thanks for joining us.  And now Craig and I would be very happy to take your questions.\"]"
      ]
     },
     "execution_count": 61,
     "metadata": {},
     "output_type": "execute_result"
    }
   ],
   "source": [
    "speeches = data['Speech'].tolist()\n",
    "speeches[1:3]"
   ]
  },
  {
   "cell_type": "code",
   "execution_count": null,
   "metadata": {},
   "outputs": [],
   "source": [
    "import ollama\n",
    "import pandas as pd\n",
    "import re\n",
    "\n",
    "desiredModel = 'llama3.3' # 3.2 or 3.1:70b or llama3.2:latest or deepseek-r1:32b\n",
    "\n",
    "# Create an empty list to store results\n",
    "results = []\n",
    "\n",
    "toplabel = speeches\n",
    "\n",
    "# Modify the prompt for each iteration\n",
    "prompt = f''' ['{data}'] \n",
    "The list above is the Earning Call Transcript in year 2001. \n",
    "Summarize this into a single paragraph.\"'''\n",
    "\n",
    "# Call Ollama to get the label\n",
    "response = ollama.chat(model=desiredModel,\n",
    "                        messages=[{\n",
    "                            'role': 'user',\n",
    "                            'content': prompt}],\n",
    "                        options={'use_gpu': True})\n",
    "\n",
    "# Extract the label from the response\n",
    "OllamaResponse = response['message']['content']\n",
    "\n",
    "# Append the results to the list\n",
    "results.append({\n",
    "    'year': '2001',\n",
    "    'content': OllamaResponse\n",
    "})\n",
    "\n",
    "# Convert the results into a DataFrame\n",
    "ect_sum_df = pd.DataFrame(results)"
   ]
  }
 ],
 "metadata": {
  "language_info": {
   "name": "python"
  }
 },
 "nbformat": 4,
 "nbformat_minor": 2
}
