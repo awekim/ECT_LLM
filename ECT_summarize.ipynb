{
 "cells": [
  {
   "cell_type": "code",
   "execution_count": null,
   "metadata": {},
   "outputs": [],
   "source": [
    "import pandas as pd\n",
    "import re\n",
    "import os\n",
    "import torch\n",
    "\n",
    "print(\"PyTorch version:\", torch.__version__)\n",
    "print(\"CUDA version used by PyTorch:\", torch.version.cuda)\n",
    "print(\"Is CUDA available:\", torch.cuda.is_available())"
   ]
  },
  {
   "cell_type": "code",
   "execution_count": null,
   "metadata": {},
   "outputs": [],
   "source": [
    "dir_txt = \"I:/Data_for_practice/ECT2001_2021/\"\n",
    "dir_txt"
   ]
  },
  {
   "cell_type": "code",
   "execution_count": null,
   "metadata": {},
   "outputs": [],
   "source": [
    "import os\n",
    "\n",
    "os.environ[\"CUDA_VISIBLE_DEVICES\"] = \"0\""
   ]
  },
  {
   "cell_type": "code",
   "execution_count": null,
   "metadata": {},
   "outputs": [],
   "source": [
    "import ollama\n",
    "import pandas as pd\n",
    "import re\n",
    "\n",
    "desiredModel = 'llama3.3' # 3.2 or 3.1:70b or llama3.2:latest or deepseek-r1:32b\n",
    "\n",
    "# Create an empty list to store results\n",
    "results = []\n",
    "\n",
    "toplabel = df_temp['Speech'].values[0]\n",
    "\n",
    "# Modify the prompt for each iteration\n",
    "prompt = f''' ['{data}'] \n",
    "Above is the Earning Call Transcript in year 2002. \n",
    "Summarize this into a single paragraph.\"'''\n",
    "\n",
    "\n",
    "# Call Ollama to get the label\n",
    "response = ollama.chat(model=desiredModel,\n",
    "                        messages=[{\n",
    "                            'role': 'user',\n",
    "                            'content': prompt}],\n",
    "                        options={'use_gpu': True})\n",
    "\n",
    "# Extract the label from the response\n",
    "OllamaResponse = response['message']['content']\n",
    "\n",
    "# Append the results to the list\n",
    "results.append({\n",
    "    'year': '2002',\n",
    "    'content': OllamaResponse\n",
    "})\n",
    "\n",
    "# Convert the results into a DataFrame\n",
    "ect_sum_df = pd.DataFrame(results)"
   ]
  }
 ],
 "metadata": {
  "language_info": {
   "name": "python"
  }
 },
 "nbformat": 4,
 "nbformat_minor": 2
}
